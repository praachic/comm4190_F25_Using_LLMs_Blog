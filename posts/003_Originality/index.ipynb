{
 "cells": [
  {
   "cell_type": "raw",
   "id": "ceb26b6d-d77d-4a43-8a72-f9758596005e",
   "metadata": {},
   "source": [
    "---\n",
    "title: \"How does ChatGPT process originality in research?\"\n",
    "description: \"How does ChatGPT process originality in research?\"\n",
    "author: \"Praachi Chakraborty\"\n",
    "date: \"09/20/25\"\n",
    "categories:\n",
    "  - Perception\n",
    "  - Fun\n",
    "---"
   ]
  },
  {
   "cell_type": "markdown",
   "id": "a6babcfa-5e2d-48b1-a71c-d91845793138",
   "metadata": {},
   "source": [
    "### Setup\n",
    "\n",
    "Yesterday, I had the opportunity to volunteer at an AI Research Conference held by PennAI and IDEAS. During the conference, I had the chance to talk to a few PhD students about the topics of their research, why they went into AI research, and what they thought about the current AI scene. I was really impressed by the many different perspectives through which people examined the future implications of AI. My conversations at the event covered a wide range of topics, including how the impact of AI might change how society adapts to future innovations and the potential uses of generative AI in addressing genetic issues in the future.\n",
    "\n",
    "I was so impressed by how original everybody’s research was. With all of the conversation about how AI may have the ability to replace jobs in the future, I can’t help but wonder if AI is (yet) at the point of developing original ideas on its own. Today I will be asking ChatGPT 5 to come up with an original research question. \n",
    "\n",
    "I will first prompt ChatGPT to think like a PhD student. I will assign it a role and give it a clear set of instructions. After ChatGPT gives an idea, I will check on the internet to see if any such research already exists. If it does, I will ask it to try again. "
   ]
  },
  {
   "cell_type": "markdown",
   "id": "7f34b0f8-bf73-4911-854c-19e36af998d9",
   "metadata": {},
   "source": [
    "#### Attempt 1\n",
    "\n",
    "**To set the stage, I set up a temporary chat and I said:** \n",
    ">Hi Chat. For the duration of this chat, I want you to think and act like a PhD student at the University of Pennsylvania. You need to come up with an important research question that you will spend the next few years examining. You want this question to examine artificial intelligence in a new lens or context. Most importantly, the research question must be completely original. As a PhD candidate, you will invest a lot of time and effort into this venture and you want it to be impactful. Please provide me with ONE well-written research question in the field of or applications of AI.\n",
    "\n",
    "**ChatGPT’s research question was the following:**\n",
    ">How do artificial intelligence systems reshape collective memory by influencing what societies choose to preserve, forget, or reinterpret in digital cultural archives, and what ethical frameworks are needed to govern this process?\n",
    "\n",
    "Now, let’s see if I can find real research on this. "
   ]
  },
  {
   "cell_type": "markdown",
   "id": "cac235da-de3f-4738-8843-d2263d6fbb2d",
   "metadata": {},
   "source": [
    "**Verdict:**\n",
    "\n",
    "<img src=\"Algorithmic memory.png\" width=\"50%\"/>\n",
    "\n",
    "Uh oh. Attempt #1 was unsuccessful. To ChatGPT’s benefit, it did come up with a second part to the question, but it was a rather obvious addition, and the original question followed Tutuncuoglu’s research almost verbatim.\n"
   ]
  },
  {
   "cell_type": "markdown",
   "id": "790f69c2-2ad6-4e02-b624-bb336bea1ef4",
   "metadata": {},
   "source": [
    "#### Attempt 2\n",
    "\n",
    "**Let’s try again. This time I will emphasize the need for the research to be original:**\n",
    ">It seems like this topic is already being researched. I googled the topic and it came up on the internet. I need the topic you provide to be unresearched and completely novel.\n",
    "\n",
    "**ChatGPT responded:**\n",
    ">How can a cryptographically auditable, incentive-compatible market for personal data revocation be designed to enforce verifiable machine unlearning in large, federated AI systems, and what equilibrium behaviors, welfare impacts, and failure modes emerge under adversarial participation?"
   ]
  },
  {
   "cell_type": "markdown",
   "id": "102207aa-52b3-4f54-adc7-050717786c05",
   "metadata": {},
   "source": [
    "**Verdict:**\n",
    "\n",
    "I noticed that this attempt seemed to have much more jargon coded in than the previous attempt. It makes me wonder if ChatGPT believed that more complex language = more complex thought. The being said:\n",
    "\n",
    "<img src=\"Machine Unlearning.png\" width=\"50%\"/>\n",
    "\n",
    "Unfortunately, still not original – and once again, it is almost verbatim! This research paper was written in 2022. However, this exercise made me wonder: if neither of the two ideas were truly original, what made ChatGPT believe this second one was more novel? I didn’t want ChatGPT to try to justify the answers it had already given, and so I opened a new temporary chat. \n"
   ]
  },
  {
   "cell_type": "markdown",
   "id": "68fcdd2a-2c3e-4da6-b58e-fe9b350b7f94",
   "metadata": {},
   "source": [
    "**I asked:**\n",
    ">Given two sentences and no background, what markers would you look for when guessing which is more novel or original? Please answer in 2-3 sentences\n",
    "\n",
    "**ChatGPT answered:** \n",
    ">To judge which sentence is more novel, I’d look for markers of originality such as unusual word choice, surprising metaphors, or uncommon imagery that stand out from everyday language. I’d also consider structural markers—like unexpected syntax, rhythm, or perspective—that deviate from conventional phrasing. In contrast, sentences relying on clichés, generic expressions, or predictable patterns are less likely to feel novel.\n",
    "\n",
    "As I had suspected, it seemed that ChatGPT had used the cue of “unusual word choice” to likely imply that more technical jargon would “create” more originality. I think by examining the ways in which ChatGPT and other LLMs process and analyze data we can become more objective in removing the filter of “creation” from the outputs we get. \n",
    "\n",
    "\n"
   ]
  }
 ],
 "metadata": {
  "citation-manager": {
   "items": {}
  },
  "kernelspec": {
   "display_name": "Python 3 (ipykernel)",
   "language": "python",
   "name": "python3"
  },
  "language_info": {
   "codemirror_mode": {
    "name": "ipython",
    "version": 3
   },
   "file_extension": ".py",
   "mimetype": "text/x-python",
   "name": "python",
   "nbconvert_exporter": "python",
   "pygments_lexer": "ipython3",
   "version": "3.10.12"
  }
 },
 "nbformat": 4,
 "nbformat_minor": 5
}
