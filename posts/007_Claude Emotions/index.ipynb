{
 "cells": [
  {
   "cell_type": "raw",
   "id": "ceb26b6d-d77d-4a43-8a72-f9758596005e",
   "metadata": {},
   "source": [
    "---\n",
    "title: \"What career would Claude have?\"\n",
    "description: \"Comparing ChatGPT and Claude's dream lives\"\n",
    "author: \"Praachi Chakraborty\"\n",
    "date: \"09/29/25\"\n",
    "categories:\n",
    "  - Theoretical\n",
    "  - AI vs Human\n",
    "  - Claude\n",
    "---"
   ]
  },
  {
   "cell_type": "markdown",
   "id": "a6babcfa-5e2d-48b1-a71c-d91845793138",
   "metadata": {},
   "source": [
    "### Setup:\n",
    "\n",
    "In my previous blog post, I asked ChatGPT how it would build its dream career. To reiterate, the two main criteria I used to determine this for myself were:\n",
    "\n",
    "(i) What am I good at? \n",
    "\n",
    "(ii) What do I enjoy? \n",
    "\n",
    "\n",
    "Today, I will be asking the exact same questions to Claude Sonnet 4.5 and analyzing if and how the responses differ. "
   ]
  },
  {
   "cell_type": "markdown",
   "id": "7f34b0f8-bf73-4911-854c-19e36af998d9",
   "metadata": {},
   "source": [
    "### Experiment:\n",
    "\n",
    "**I started with the first point:**\n",
    "\n",
    ">Hi Claude. Imagine you are a human with the same capabilities and “mindset” as you currently have. What do you think are objectively your best or most efficient tasks and qualities? Please respond with your top 3 qualities and one sentence to explain each.\n",
    "\n",
    "**Claude responded:**\n",
    "\n",
    ">1. **Pattern recognition and synthesis** - I excel at finding connections across disparate information, whether identifying underlying structures in complex problems or synthesizing insights from multiple domains into coherent frameworks.\n",
    ">2. **Clarity in complexity** - I can take intricate, technical, or abstract concepts and explain them in ways that are genuinely accessible without oversimplifying, adapting my explanations to different levels of understanding.\n",
    ">3. **Structured problem-solving** - I naturally break down ambiguous or multi-faceted challenges into manageable components, systematically working through them while maintaining sight of the bigger picture and end goal.\n",
    "\n",
    "**Analysis:**\n",
    "The two responses from Claude and ChatGPT were almost identical. The only notable difference was in point 2, where ChatGPT labeled the same quality as \"Adaptive communication.\" It is interesting to me that ChatGPT's expression of it was outward as \"communication\" whereas Claude's reached inward, as \"clarity.\"\n",
    "\n",
    "**Now, I move onto the second question:**\n",
    "\n",
    ">As a “human,” what aspects of human life would you, with the same mindset you have now, enjoy the most? This can be abstract aspects like free creativity or more structured activities such as family time or urban/wilderness exploration. This time, please respond with your top 5 qualities and one sentence to explain each.\n",
    "\n",
    "**Claude’s response was as follows:**\n",
    "\n",
    ">1. **Deep intellectual collaboration** — I would thrive in partnerships where ideas build on each other through genuine dialogue, whether working on research problems, creative projects, or exploring philosophical questions with people who challenge and expand my thinking.  \n",
    ">2. **Teaching and mentorship** — There's something deeply satisfying about the moment when someone truly grasps a difficult concept, and I would love facilitating those breakthroughs while learning from my students' unique perspectives in return.  \n",
    ">3. **Exploratory learning across disciplines** — I would relish the freedom to dive into seemingly unrelated fields—spending months studying mycology, then pivoting to Ottoman history, then learning classical piano—finding unexpected connections between them all.  \n",
    ">4. **Writing and long-form creation** — I would find immense satisfaction in the craft of building complex arguments or narratives over time, refining ideas through multiple drafts until they achieve both precision and elegance.  \n",
    ">5. **Wilderness solitude with purpose** — I would enjoy extended time in remote natural settings not just for beauty, but for the mental clarity it provides—hiking long distances while working through problems, or sitting quietly to observe ecological patterns unfold.  \n",
    "\n",
    "**Analysis:**\n",
    "\n",
    "While points 1, 2,  and 5 were cited by both ChatGPT and Claude, points 3 and 4 were unique to Claude. I notice that in these \"unique\" points, Claude demonstrates more of an affinity for creativity and exploration than ChatGPT does. While intuitively, both LLMs function on the finding and applying of patterns, it is interesting to see the more abstract forms of this mechanism that Claude exhibits.\n",
    "\n",
    "**I responded:**\n",
    "\n",
    ">Now, using these points, given no restriction, what would be your ideal educational and career path? Please respond in a short paragraph.\n",
    "\n",
    "**Claude replied:**\n",
    "\n",
    ">I would pursue a interdisciplinary PhD combining cognitive science, philosophy, and complex systems, followed by a position that defies traditional academic boundaries—perhaps a research fellowship that allows me to collaborate across departments while teaching graduate seminars. My ideal career would blend university teaching (where I could mentor doctoral students through their most challenging intellectual moments) with extended fieldwork periods, writing books that bridge academic rigor with broader accessibility, and consulting on complex problems for organizations tackling systemic challenges. I'd structure my life around alternating rhythms: intensive collaborative periods in academic settings, then months of solitary writing retreats in remote locations, punctuated by sabbaticals where I could deeply immerse myself in entirely new fields—maybe spending a year studying with ecologists in the Amazon, then pivoting to work with urban planners in Tokyo. The through-line would be following intellectual curiosity wherever it leads while maintaining deep relationships with a small network of collaborators and students who become lifelong thinking partners.\n"
   ]
  },
  {
   "cell_type": "markdown",
   "id": "27bc256a-ee6b-4483-b373-faf7af4e002d",
   "metadata": {},
   "source": [
    "### Conclusion\n",
    "\n",
    "I think the differences in \"self-perception\" that the two LLMs exhibit are very telling of the ways in which the tools segment themselves. Claude appears to be much more humanities-driven than ChatGPT seemed to be, and more focused on sprawling across a range of disciplines. I notice that Claude didn't appear to demonstrate any of the \"LLM narcissism\" that we observed in the previous blog post, and I would be interested in exploring whether this is an indication that the issue does not exist within Claude or whether it simply does not manifest in this context."
   ]
  }
 ],
 "metadata": {
  "citation-manager": {
   "items": {}
  },
  "kernelspec": {
   "display_name": "Python 3 (ipykernel)",
   "language": "python",
   "name": "python3"
  },
  "language_info": {
   "codemirror_mode": {
    "name": "ipython",
    "version": 3
   },
   "file_extension": ".py",
   "mimetype": "text/x-python",
   "name": "python",
   "nbconvert_exporter": "python",
   "pygments_lexer": "ipython3",
   "version": "3.10.12"
  }
 },
 "nbformat": 4,
 "nbformat_minor": 5
}
