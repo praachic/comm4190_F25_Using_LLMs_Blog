{
 "cells": [
  {
   "cell_type": "raw",
   "id": "ceb26b6d-d77d-4a43-8a72-f9758596005e",
   "metadata": {},
   "source": [
    "---\n",
    "title: \"Asking Chat GPT Abstract Questions, Part 1\"\n",
    "description: \"Does ChatGPT have the same replies as my friends?\"\n",
    "author: \"Praachi Chakraborty\"\n",
    "date: \"09/20/25\"\n",
    "categories:\n",
    "  - Perception\n",
    "  - Fun\n",
    "---"
   ]
  },
  {
   "cell_type": "markdown",
   "id": "30a5607a-0e45-459a-8135-d7e93912ab03",
   "metadata": {},
   "source": [
    "### Setup\n",
    "As my friends know, I am very fond of abstract questions. Whether it is for the sake of GBM ice-breakers, or just for entertainment, I really enjoy silly questions that make people think. \n",
    "\n",
    "Today, I will be asking ChatGPT a series of abstract questions, but the focus will be on its “perceptions” of me. I have already asked my friends these questions and I will be comparing the LLM’s responses to the most common or “agreed on” answers my friends have given. I am aware that this experiment is inherently flawed as ChatGPT does not see the same aspects of me as my friends do, but I'm interested in seeing if and how the responses differ. \n",
    "\n",
    "**To set up the experiment, I inputted the following prompt into ChatGPT 5:**\n",
    ">Hi chat. Today I will be asking you a series of abstract questions about myself. For each question, please respond with not only your answer, but a brief (1-2 sentence) explanation of why. \n"
   ]
  },
  {
   "cell_type": "markdown",
   "id": "a6babcfa-5e2d-48b1-a71c-d91845793138",
   "metadata": {},
   "source": [
    "#### Question 1: *If I were an animal, what animal would I be?*  \n",
    "\n",
    "**My friends answered:**  \n",
    "A red panda, a fox, or a quokka. (I had to look that one up.)  \n",
    "\n",
    "**ChatGPT responded:**  \n",
    ">*I’d say you’d be a **fox.***  \n",
    "**Why:** Foxes balance cleverness with adaptability—they’re quick thinkers, resourceful in many environments, and often underestimated until they surprise you. That aligns with how you mix sharp intellect with creativity and a knack for navigating different roles in academics, leadership, and projects.  \n",
    "\n",
    "**Analysis:**  \n",
    "This surprised me! ChatGPT agreed with my friends on this question, at least somewhat. Although my friends had named animals based on the fact that they were small, fluffy, and a little mischievous, both ChatGPT and my friends had named a fox.  \n"
   ]
  },
  {
   "cell_type": "markdown",
   "id": "7f34b0f8-bf73-4911-854c-19e36af998d9",
   "metadata": {},
   "source": [
    "#### Question 2: *If I were a color, which would I be?*  \n",
    "\n",
    "**My friends answered:**  \n",
    "Dark brown.  \n",
    "\n",
    "**ChatGPT responded:**  \n",
    ">*You’d be **deep blue.***  \n",
    "**Why:** Deep blue conveys intelligence, steadiness, and quiet confidence, while also carrying a sense of depth and reflection. That matches how you approach challenges thoughtfully, lead with calm authority, and value both creativity and analysis.  \n",
    "\n",
    "**Analysis:**  \n",
    "This time, ChatGPT and my friends did not agree on the color—but they did somewhat agree on the reasoning. My friends’ answer of dark brown came from confidence as well, but also warmth.  \n"
   ]
  },
  {
   "cell_type": "markdown",
   "id": "cac235da-de3f-4738-8843-d2263d6fbb2d",
   "metadata": {},
   "source": [
    "#### Question 3: *If I were an animated character, which one would I be?*  \n",
    "\n",
    "**My friends answered:**  \n",
    "Margot from *Despicable Me* or Rapunzel.  \n",
    "\n",
    "**ChatGPT responded:**  \n",
    ">*I’d say you’d be Coraline from* *Coraline.*  \n",
    "**Why:** She’s curious, brave, and unafraid to dig beneath the surface of things, even when it’s unsettling. That mirrors your mix of intellectual curiosity, willingness to take risks, and ability to handle complex or layered situations with creativity and resilience.  \n",
    "\n",
    "**Analysis:**  \n",
    "This was a particularly interesting answer to me. It wasn’t even close to the answers my friends had given, but it was one that I really liked. Growing up, *Coraline* was a favorite book of mine, and I adored the movie as well. It makes me wonder if the answers that ChatGPT gives in return are really analyses and comparisons of my traits to the answer that is most fitting, or if it’s comparing my traits to the answer it thinks I will like the best.  \n"
   ]
  },
  {
   "cell_type": "markdown",
   "id": "790f69c2-2ad6-4e02-b624-bb336bea1ef4",
   "metadata": {},
   "source": [
    "### Reflection  \n",
    "\n",
    "I really enjoyed this activity with ChatGPT and am looking forward to continuing this series. Maybe next time I’ll try asking the LLM questions to gauge its perception of itself rather than that of me.  "
   ]
  }
 ],
 "metadata": {
  "citation-manager": {
   "items": {}
  },
  "kernelspec": {
   "display_name": "Python 3 (ipykernel)",
   "language": "python",
   "name": "python3"
  },
  "language_info": {
   "codemirror_mode": {
    "name": "ipython",
    "version": 3
   },
   "file_extension": ".py",
   "mimetype": "text/x-python",
   "name": "python",
   "nbconvert_exporter": "python",
   "pygments_lexer": "ipython3",
   "version": "3.10.12"
  }
 },
 "nbformat": 4,
 "nbformat_minor": 5
}
