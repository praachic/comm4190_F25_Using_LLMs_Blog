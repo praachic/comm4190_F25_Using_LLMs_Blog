{
 "cells": [
  {
   "cell_type": "raw",
   "id": "ceb26b6d-d77d-4a43-8a72-f9758596005e",
   "metadata": {},
   "source": [
    "---\n",
    "title: \"Can Chat GPT Simulate Survey Data?\"\n",
    "description: \"Using ChatGPT to test out an event idea\"\n",
    "author: \"Praachi Chakraborty\"\n",
    "date: \"09/19/25\"\n",
    "categories:\n",
    "  - prompting\n",
    "  - logic\n",
    "  - Marketing\n",
    "---"
   ]
  },
  {
   "cell_type": "markdown",
   "id": "b58618eb-dd92-483b-a802-cf2083e61d6d",
   "metadata": {},
   "source": [
    "### Setup:\n",
    "Recently, I began planning a giveaway event for the Penn student body. In my leadership role as a director of Penn’s SPEC Pop Up, my co-directors and I regularly plan events throughout the school year. \n",
    "\n",
    "On Wednesday, the general body members (GBMers) of our organization decided on a theme and title they wanted for our upcoming event – The Fall I Turned Cozy. It seemed that people either loved the name or hated it. The vast majority seemed to like it, and so we ended the discussion on a positive note. \n",
    "\n",
    "To those unaware, this is a reference to the popular TV show, The Summer I Turned Pretty. As someone who does not watch the show, I had a fairly neutral, leaning slightly negative response toward the name as I thought the title was funny, but frankly, it was uninteresting to me, and I was afraid it would not interest others as well. I was curious to see what ChatGPT-5 would think of it. \n",
    "\n",
    "As such, I asked Chat to simulate a survey for me."
   ]
  },
  {
   "cell_type": "markdown",
   "id": "ae8a88f4-5de2-4165-997a-4a61af1e644e",
   "metadata": {},
   "source": [
    "**I asked:**\n",
    "\n",
    "> Imagine a random sample of 50 Penn students. Simulate a survey: How interested would you be in a fall giveaway event named \"The Fall I turned Cozy?\" (1-5) Why or why not? What items would you expect to seen given away?\n",
    "\n",
    "**ChatGPT responded with a table of hypothetical data, as well as a variety of hypothetical open-ended responses.** \n",
    "\n",
    "Here is a sample of some of it:\n"
   ]
  },
  {
   "cell_type": "markdown",
   "id": "6787d407-a1f6-4829-a7b5-515811916c85",
   "metadata": {},
   "source": [
    "#### Q1. *How interested would you be in a fall giveaway event named “The Fall I Turned Cozy?”*  \n",
    "\n",
    "| Rating | # Students | % of Sample |\n",
    "|:-------|:------------:|:------------:|\n",
    "| 1 (Not interested) | 6 | 12% |\n",
    "| 2 | 8 | 16% |\n",
    "| 3 (Neutral) | 12 | 24% |\n",
    "| 4 | 14 | 28% |\n",
    "| 5 (Very interested) | 10 | 20% |\n",
    "\n",
    "**Average rating:** 3.3 / 5  \n",
    "**Mode:** 4\n"
   ]
  },
  {
   "cell_type": "markdown",
   "id": "26505cfd-cb22-4a41-9d63-1e009fe67634",
   "metadata": {},
   "source": [
    "#### Q2. *Why or why not?*  \n",
    "\n",
    "**Interested (4–5 ratings):**  \n",
    "- “The name is cute and seasonal—perfect for fall vibes.”  \n",
    "- “I love cozy fall stuff like blankets, tea, and candles.”  \n",
    "- “Cozy = food, and I’m always in for food.”  \n",
    "\n",
    "**Neutral (3 ratings):**  \n",
    "- “The name is fine, but not super clear on what’s being given away.”  \n",
    "- “I’d come if the items were useful, but the name doesn’t make or break it.”  \n",
    "- “It depends on timing and location more than the title.”  \n",
    "\n",
    "**Not Interested (1–2 ratings):**  \n",
    "- “The name feels a little cheesy.”  \n",
    "- “I don’t really care about seasonal themes.”  \n",
    "- “Not sure I get what the title means—sounds like a rom-com.”  "
   ]
  },
  {
   "cell_type": "markdown",
   "id": "89386b11-c1f3-43e1-a0aa-424c1f6a9025",
   "metadata": {},
   "source": [
    "#### Q3. *What items would you expect to see given away?*  \n",
    "\n",
    "**Most common responses (grouped):**  \n",
    "- **Food & Drinks:** hot chocolate packets, apple cider, pumpkin bread, cookies, instant ramen, tea bags.  \n",
    "- **Cozy Items:** fuzzy socks, small blankets, mittens, scarves, beanies.  \n",
    "- **Dorm Accessories:** candles, mini fairy lights, mugs, slippers, stress balls.  \n",
    "- **Penn-branded Merch:** tote bags, sweatshirts, water bottles.  \n",
    "- **Fun Extras:** fall stickers, tote pins, hand warmers. "
   ]
  },
  {
   "cell_type": "markdown",
   "id": "23f7a83f-9866-4cc6-a0b3-7cf0f44424b7",
   "metadata": {},
   "source": [
    "#### Q4. *Would you expect there to be a demographic divide?*  \n",
    "\n",
    "Based on the “data” given, I wanted to check if ChatGPT expected there to be a demographic divide—especially considering the event referred to a popular rom-com, *The Summer I Turned Pretty*, and stereotypically “feminine” cozy vibes.  \n",
    "\n",
    "**I asked:**  \n",
    "> *Would you expect there to be a demographic divide?*  \n",
    "\n",
    "ChatGPT responded in a way that directly tied in different demographics with how much it would expect the interest scale to shift. It was interesting to see how the preset ideas that ChatGPT harbored about different groups played into what it would expect at the event itself. ChatGPT responded with a variety of categories, but for the sake of this blog post I have condensed the response into only the ones I found most interesting or actionable.  \n"
   ]
  },
  {
   "cell_type": "markdown",
   "id": "c4d6f7da-8bce-4b61-bb34-9102773e3950",
   "metadata": {},
   "source": [
    "**ChatGPT responded:**  \n",
    "*Short answer: Yes—probably modest ones. Here’s where I’d expect differences (direction + why), and by roughly how much on a 1–5 interest scale.*  \n",
    "\n",
    "**Likely divides (expected direction):**  \n",
    "- **Class year:**  \n",
    "  - *First-years/Sophomores → higher (+0.3–0.5).* More on campus, event-curious, love dorm-friendly freebies.  \n",
    "  - *Juniors/Seniors → lower (−0.1–0.3).* Busier, off-campus, more selective.  \n",
    "\n",
    "- **Housing status:**  \n",
    "  - *On-campus dorm/college houses → higher (+0.3–0.6).* Ease of access; dorm-use items (lights, mugs, socks).  \n",
    "  - *Off-campus → lower (−0.2–0.4).* Travel friction; already own “cozy” gear.  \n",
    "\n",
    "- **Gender identity:**  \n",
    "  - *Women & nonbinary students → slightly higher (+0.2–0.4).* “Cozy” aesthetics tend to test better in campus merch themes.  \n",
    "  - *Men → slightly lower (−0.1–0.3)* unless items are more utility-heavy (hand warmers, ramen, tech gloves).  \n",
    "\n",
    "- **School/discipline:**  \n",
    "  - *Humanities/Design/Education → slightly higher (+0.1–0.3)* for theme/aesthetic.  \n",
    "  - *Engineering/Wharton hard-pressed weeks → neutral to slightly lower* unless items are high-utility (mugs, thermal cups, study snacks).  "
   ]
  },
  {
   "cell_type": "markdown",
   "id": "eda6d1d8-f2b7-4dc2-93c0-c98e08d2388e",
   "metadata": {},
   "source": [
    "### Reflection:\n",
    "I found this response not only interesting in the ways ChatGPT tends to characterize people, but also quite insightful—it provided a neutral perspective I wasn’t previously familiar with. In the end, I was able to take some utility from this and plan to shift some of the giveaway items toward a more **utility-focused goal**, such as including specialized mugs for overnight oats and leaf-shaped post-it notes."
   ]
  }
 ],
 "metadata": {
  "citation-manager": {
   "items": {}
  },
  "kernelspec": {
   "display_name": "Python 3 (ipykernel)",
   "language": "python",
   "name": "python3"
  },
  "language_info": {
   "codemirror_mode": {
    "name": "ipython",
    "version": 3
   },
   "file_extension": ".py",
   "mimetype": "text/x-python",
   "name": "python",
   "nbconvert_exporter": "python",
   "pygments_lexer": "ipython3",
   "version": "3.10.12"
  }
 },
 "nbformat": 4,
 "nbformat_minor": 5
}
