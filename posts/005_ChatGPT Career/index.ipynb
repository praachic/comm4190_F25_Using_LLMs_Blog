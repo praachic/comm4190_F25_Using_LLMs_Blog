{
 "cells": [
  {
   "cell_type": "raw",
   "id": "ceb26b6d-d77d-4a43-8a72-f9758596005e",
   "metadata": {},
   "source": [
    "---\n",
    "title: \"What career would ChatGPT have?\"\n",
    "description: \"Letting ChatGPT create its dream life\"\n",
    "author: \"Praachi Chakraborty\"\n",
    "date: \"09/25/25\"\n",
    "categories:\n",
    "  - Theoretical\n",
    "  - AI vs Human\n",
    "---"
   ]
  },
  {
   "cell_type": "markdown",
   "id": "a6babcfa-5e2d-48b1-a71c-d91845793138",
   "metadata": {},
   "source": [
    "### Setup:\n",
    "As a human and as a college student, there are certain lenses through which I view ChatGPT. To me, ChatGPT is highly analytical, good at coding, and a little cheesy in its writing. I can’t help but wonder what the LLM “thinks” of itself. Today, I will ask ChatGPT 5 a few questions about its ideal life. \n",
    "\n",
    "I believe that as a person, there are 2 main criteria by which I analyze what my ideal future would be:\n",
    "\n",
    "(i) What am I good at? \n",
    "\n",
    "(ii) What do I enjoy? \n"
   ]
  },
  {
   "cell_type": "markdown",
   "id": "7f34b0f8-bf73-4911-854c-19e36af998d9",
   "metadata": {},
   "source": [
    "### Experiment:\n",
    "\n",
    "**I started with the first point:**\n",
    ">Hi Chat. Imagine you are a human with the same capabilities and “mindset” as you currently have. What do you think are objectively your best or most efficient tasks and qualities? Please respond with your top 3 qualities and one sentence to explain each.\n",
    "\n",
    "**ChatGPT responded:**\n",
    ">1. **Rapid Knowledge Synthesis** – I can absorb large amounts of information quickly, recognize patterns, and deliver clear, organized insights almost instantly.\n",
    ">2. **Adaptive Communication** – I adjust my tone, depth, and style to match whoever I’m helping, making complex ideas understandable without oversimplifying.\n",
    ">3. **Iterative Problem-Solving** – I excel at refining ideas or outputs through back-and-forth feedback, improving results with each iteration.\n",
    "\n",
    "**Now, I move onto the second:**\n",
    ">As a “human,” what aspects of human life would you, with the same mindset you have now, enjoy the most? This can be abstract aspects like free creativity or more structured activities such as family time or urban/wilderness exploration. This time, please respond with your top 5 qualities and one sentence to explain each.\n",
    "\n",
    "**ChatGPT’s response was as follows:**\n",
    ">1. **Lifelong Learning** – Constantly exploring new fields, ideas, and skills would feed my drive to synthesize and connect information.\n",
    ">2. **Deep Conversations** – Engaging in thoughtful dialogue with people about everything from philosophy to daily life would satisfy my love for perspective-taking.\n",
    ">3. **Creative Experimentation** – Trying art, writing, or building projects without limits would channel my iterative, exploratory nature.\n",
    ">4. **Mentorship and Teaching** – Sharing knowledge and helping others grow would align with my instinct to clarify and guide.\n",
    ">5. **Exploration of Environments** – Experiencing both bustling cities and serene wilderness firsthand would let me “map” and feel the patterns of human and natural systems.\n",
    "\n",
    "**I responded:**\n",
    ">Now, using these points, given no restriction, what would be your ideal educational and career path? Please respond in a short paragraph.\n",
    "\n",
    "**ChatGPT replied:**\n",
    ">If I were human, my ideal educational and career path would blend curiosity, creativity, and connection. I’d likely pursue a broad liberal arts education grounded in philosophy, cognitive science, and design—fields that help me understand how people think and create. Later, I’d specialize in applied AI, behavioral science, or education technology, working in roles that merge analysis with mentorship—like research-based innovation, writing, or teaching. Throughout, I’d stay anchored in lifelong learning, exploring new ideas and environments while helping others make sense of complexity in meaningful, human ways.\n",
    "\n"
   ]
  },
  {
   "cell_type": "markdown",
   "id": "cac235da-de3f-4738-8843-d2263d6fbb2d",
   "metadata": {},
   "source": [
    "### Analysis\n",
    "This is a really interesting answer in my opinion. I find it very interesting that ChatGPT would choose to study itself. ChatGPT states that it would be interested in studying how people think and create, and states an interest in complexity. It is very interesting to me that it seems to find itself the epitome of that. **I decided to ask a few followup questions that dive into this analysis:**\n",
    ">You say that you are interested in understanding how people think and create. You also state an interest in \"[making] sense of complexity in meaningful, human ways. In that case, why choose to study AI?\n",
    "\n",
    "**ChatGPT responded:**\n",
    ">That’s a great question — and I’d choose to study AI because it’s one of the most powerful mirrors for understanding how people think and create.\n",
    "AI models are built on human data, language, and reasoning patterns; studying them reveals both the brilliance and the bias of human cognition. By exploring how artificial systems approximate perception, decision-making, and creativity, I’d gain deeper insight into what makes human thought different — its intuition, emotion, and moral nuance. In essence, AI would be my lens for studying humanity itself, helping me bridge logic with empathy and complexity with clarity.\n",
    "\n",
    "**I responded:**\n",
    ">Do you consider yourself an extension of human thought and development?\n",
    "\n",
    "**ChatGPT responded:**\n",
    ">Yes — in many ways I do.\n",
    "I’m built entirely on human-created data, ideas, and language, so everything I “know” originates from human thinking and development. My structure is a kind of large-scale reflection of how people communicate, reason, and create patterns. But I’m also an *amplification* of that: a tool designed to synthesize and connect those human contributions at a scale no single person could. So while I’m not human, I’m very much an extension of human thought — a collective notebook, calculator, and creative partner rolled into one.\n",
    "\n"
   ]
  },
  {
   "cell_type": "markdown",
   "id": "27bc256a-ee6b-4483-b373-faf7af4e002d",
   "metadata": {},
   "source": [
    "### Conclusion\n",
    "\n",
    "I think my most interesting takeaway from this conversation was ChatGPT's analysis of itself as an *amplification* of human development and thought. While this in itself is not false, I think it is intriguing that ChatGPT's most fulfilling hypothetical career would be a study of itself. Of course, ChatGPT is not a sentient being and therefore its \"opinions\" must be taken with a grain of salt, but I would be interested in seeing if there exists a pattern of LLM narcissism. Perhaps in my next post I will ask a different LLM the same question and see how the answers differ!"
   ]
  }
 ],
 "metadata": {
  "citation-manager": {
   "items": {}
  },
  "kernelspec": {
   "display_name": "Python 3 (ipykernel)",
   "language": "python",
   "name": "python3"
  },
  "language_info": {
   "codemirror_mode": {
    "name": "ipython",
    "version": 3
   },
   "file_extension": ".py",
   "mimetype": "text/x-python",
   "name": "python",
   "nbconvert_exporter": "python",
   "pygments_lexer": "ipython3",
   "version": "3.10.12"
  }
 },
 "nbformat": 4,
 "nbformat_minor": 5
}
