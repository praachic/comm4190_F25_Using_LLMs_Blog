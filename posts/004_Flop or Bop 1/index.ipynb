{
 "cells": [
  {
   "cell_type": "raw",
   "id": "ceb26b6d-d77d-4a43-8a72-f9758596005e",
   "metadata": {},
   "source": [
    "---\n",
    "title: \"Flop or Bop\"\n",
    "description: \"Can AI make me an orchestral piece?\"\n",
    "author: \"Praachi Chakraborty\"\n",
    "date: \"09/23/25\"\n",
    "categories:\n",
    "  - Music\n",
    "  - Fun\n",
    "  - AI vs Human\n",
    "---"
   ]
  },
  {
   "cell_type": "markdown",
   "id": "a6babcfa-5e2d-48b1-a71c-d91845793138",
   "metadata": {},
   "source": [
    "### Setup\n",
    "\n",
    "Today I’m going to try something a little different. I have heard a lot about AI being able to create music and songs through the use of specialized wrappers that “sing” or “play” music for you. However, does basic ChatGPT 5 possess enough music theory “knowledge” to make a short orchestral piece for me? \n",
    "\n",
    "Today we will try asking ChatGPT to help me compose a few measures of an orchestral piece. After it provides me with the notes, I will manually put them onto a compositional website (Flat.io) to hear what this composition sounds like. \n",
    "\n",
    "This is how I have set up my environment for composition:\n",
    "\n",
    "<img src=\"Flatio.png\" width=\"50%\"/>"
   ]
  },
  {
   "cell_type": "markdown",
   "id": "7f34b0f8-bf73-4911-854c-19e36af998d9",
   "metadata": {},
   "source": [
    "**First, I will let ChatGPT know what its task is:**  \n",
    "\n",
    ">Hi chat. I want us to create an orchestral piece together. I want the piece to be fun and playful and should last about 15–20 seconds. Please start by defining a time signature, key signature, and tempo.  \n",
    "\n",
    "\n",
    "**ChatGPT said:**  \n",
    ">**Time Signature:** 6/8 — this gives a bouncy, lilting feel, perfect for something playful and light.  \n",
    "**Key Signature:** C major — bright and open, no sharps or flats to complicate the fun.  \n",
    "**Tempo:** *Allegro giocoso*, ~140 bpm — fast, cheerful, and mischievous.  \n",
    "\n",
    "**Now, I will introduce the instruments and ask it to provide me with just the notes (by letter). I will ask it for one instrument at a time:**  \n",
    ">I would like the four instruments to be the violin, viola, cello, and bass. Please give me the notes for the violin first. Just the notes, please.  \n",
    "\n",
    "**ChatGPT:**  \n",
    ">E G A | G E C | D F G | A G E | C E G | A B C | G F E | D C - | E G A | G F E | F A G | E C - ||  \n",
    "\n",
    "**Me:**  \n",
    ">Next, the viola.  \n",
    "\n",
    "**ChatGPT:**  \n",
    ">C E G | F D C | B D G | C B G | A C E | F G A | E D C | G C - | C E G | F E D | D F E | C G - ||  \n",
    "\n",
    "**Me:**  \n",
    ">Next, the cello.  \n",
    "\n",
    "**ChatGPT:**  \n",
    ">C - G | C - G | D - A | G - D | F - C | G - E | A - E | D - A | C - G | B - G | A - E | G - C ||  \n",
    "\n",
    "**Me:**  \n",
    ">Next, the bass.  \n",
    "\n",
    "**ChatGPT:**  \n",
    ">C - C | G - G | D - D | G - G | F - F | C - C | A - A | D - D | C - C | G - G | A - A | C - C ||  \n",
    "\n",
    "*(At this point, I needed to clarify whether the bass notes were the same or octaves, and ChatGPT clarified that they were upward octave leaps.)*  "
   ]
  },
  {
   "cell_type": "markdown",
   "id": "cac235da-de3f-4738-8843-d2263d6fbb2d",
   "metadata": {},
   "source": [
    "Now begins the task of putting it into [Flat.io](https://flat.io).\n",
    "\n",
    "<img src=\"SheetMusic.png\" width=\"50%\"/>\n",
    "\n",
    "**Verdict:**\n",
    "\n",
    "It was not good. I did not enjoy this piece at all. Unfortunately, it seems that while the individual parts themselves did not sound awful, it seemed that when combined, they clashed quite a bit. Maybe sometime I will try this again but by creating all of the parts at once! Until then, unfortunately, I have to rule this as a Flop. \n"
   ]
  },
  {
   "cell_type": "markdown",
   "id": "27bc256a-ee6b-4483-b373-faf7af4e002d",
   "metadata": {},
   "source": [
    "You can listen to it and judge for yourself below:\n",
    "\n",
    "<audio controls>\n",
    "  <source src=\"AI song.mp3\" type=\"audio/mpeg\">\n",
    "  Your browser does not support the audio element.\n",
    "</audio>"
   ]
  }
 ],
 "metadata": {
  "citation-manager": {
   "items": {}
  },
  "kernelspec": {
   "display_name": "Python 3 (ipykernel)",
   "language": "python",
   "name": "python3"
  },
  "language_info": {
   "codemirror_mode": {
    "name": "ipython",
    "version": 3
   },
   "file_extension": ".py",
   "mimetype": "text/x-python",
   "name": "python",
   "nbconvert_exporter": "python",
   "pygments_lexer": "ipython3",
   "version": "3.10.12"
  }
 },
 "nbformat": 4,
 "nbformat_minor": 5
}
